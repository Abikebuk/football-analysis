{
 "cells": [
  {
   "cell_type": "markdown",
   "metadata": {},
   "source": [
    "# Football Analysis\n",
    "### Projet analyse video Chagnard"
   ]
  },
  {
   "cell_type": "markdown",
   "source": [
    "Dependencies"
   ],
   "metadata": {
    "collapsed": false
   }
  },
  {
   "cell_type": "code",
   "execution_count": 8,
   "outputs": [],
   "source": [
    "#pip install ultralytics\n",
    "#pip install opencv-python\n",
    "#pip install yt-dlp"
   ],
   "metadata": {
    "collapsed": false
   }
  },
  {
   "cell_type": "markdown",
   "source": [
    "Initialization of arguments"
   ],
   "metadata": {
    "collapsed": false
   }
  },
  {
   "cell_type": "code",
   "execution_count": null,
   "outputs": [],
   "source": [
    "from enum import Enum\n",
    "DownloadMode = Enum('DownloadMode', ['LOCAL', 'YOUTUBE'])"
   ],
   "metadata": {
    "collapsed": false,
    "pycharm": {
     "is_executing": true
    }
   }
  },
  {
   "cell_type": "markdown",
   "source": [
    "Arguments\n",
    "mode can be DownloadMode.LOCAL or DownloadMode.YOUTUBE"
   ],
   "metadata": {
    "collapsed": false
   }
  },
  {
   "cell_type": "code",
   "execution_count": 14,
   "outputs": [],
   "source": [
    "mode = DownloadMode.YOUTUBE\n",
    "# Set variable value in Youtube mode\n",
    "youtube_video_url = \"https://www.youtube.com/watch?v=WAshV6LM3QI\"\n",
    "# Set variable value in Local mode\n",
    "video_path = \"\"\n",
    "model_name = \"yolov8n.pt\""
   ],
   "metadata": {
    "collapsed": false
   }
  },
  {
   "cell_type": "markdown",
   "source": [
    "Imports"
   ],
   "metadata": {
    "collapsed": false
   }
  },
  {
   "cell_type": "code",
   "execution_count": 11,
   "metadata": {},
   "outputs": [],
   "source": [
    "import sys\n",
    "import json\n",
    "from ultralytics import YOLO\n",
    "# import cv2 doesn't work on my machine ~\n",
    "from cv2 import VideoCapture, destroyAllWindows, imshow, waitKey\n",
    "import yt_dlp as yt"
   ]
  },
  {
   "cell_type": "markdown",
   "metadata": {},
   "source": [
    "Miscellaneous step to get the video path"
   ]
  },
  {
   "cell_type": "code",
   "execution_count": 12,
   "metadata": {},
   "outputs": [],
   "source": [
    "sys.path.append(\"..\")"
   ]
  },
  {
   "cell_type": "markdown",
   "source": [],
   "metadata": {
    "collapsed": false
   }
  },
  {
   "cell_type": "code",
   "execution_count": null,
   "outputs": [
    {
     "name": "stdout",
     "output_type": "stream",
     "text": [
      "[youtube] Extracting URL: https://www.youtube.com/watch?v=WAshV6LM3QI\n",
      "[youtube] WAshV6LM3QI: Downloading webpage\n",
      "[youtube] WAshV6LM3QI: Downloading android player API JSON\n",
      "[info] WAshV6LM3QI: Downloading 1 format(s): 299+251\n",
      "[download] Resuming download at byte 79448705\n",
      "[download] Destination: Sporting Club Brazzaville 3 Lion de Poto Poto 0 [WAshV6LM3QI].f299.mp4\n",
      "[download]  45.4% of    2.49GiB at  879.78KiB/s ETA 26:57   "
     ]
    }
   ],
   "source": [
    "if mode == DownloadMode.YOUTUBE :\n",
    "    with yt.YoutubeDL() as ydl :\n",
    "        infos = ydl.extract_info(youtube_video_url, download=True)\n",
    "        print(json.dumps(ydl.sanitize_info(infos)))\n",
    "elif mode == DownloadMode.LOCAL :\n",
    "    print (f\"loading local video : {video_path}\")"
   ],
   "metadata": {
    "collapsed": false,
    "pycharm": {
     "is_executing": true
    }
   }
  },
  {
   "cell_type": "markdown",
   "metadata": {},
   "source": [
    "**Load model**"
   ]
  },
  {
   "cell_type": "code",
   "execution_count": null,
   "metadata": {},
   "outputs": [],
   "source": [
    "model = YOLO(model_name)  # load a pretrained model (recommended for training)"
   ]
  },
  {
   "cell_type": "markdown",
   "metadata": {},
   "source": [
    "Error prevention step"
   ]
  },
  {
   "cell_type": "code",
   "execution_count": null,
   "metadata": {},
   "outputs": [],
   "source": [
    "cap = VideoCapture(video_path)\n",
    "if not cap.isOpened():\n",
    "    \"Error opening the video\""
   ]
  },
  {
   "cell_type": "markdown",
   "source": [
    "### Detection / Prediction\n",
    "\"q\" to leave the video.\n",
    "Trying to close it with the window \"x\" on the top right of the window will not work.\n",
    "Will close the window automatically at the end of the prediction."
   ],
   "metadata": {
    "collapsed": false
   }
  },
  {
   "cell_type": "code",
   "execution_count": null,
   "outputs": [],
   "source": [
    "while cap.isOpened():\n",
    "    ret, frame = cap.read()\n",
    "    if ret:\n",
    "        # Detection part\n",
    "        detection_results = model(frame)\n",
    "        for res in detection_results:\n",
    "            boxes = res.boxes\n",
    "            masks = res.masks\n",
    "            probs = res.probs\n",
    "\n",
    "\n",
    "        res_plotted = detection_results[0].plot()\n",
    "        # End of detection part\n",
    "        imshow('Frame', res_plotted)\n",
    "        if waitKey(25) & 0xFF == ord('q'):\n",
    "            break\n",
    "    else:\n",
    "        break\n",
    "\n",
    "cap.release()\n",
    "destroyAllWindows()"
   ],
   "metadata": {
    "collapsed": false
   }
  }
 ],
 "metadata": {
  "kernelspec": {
   "display_name": "Python 3 (ipykernel)",
   "language": "python",
   "name": "python3"
  },
  "language_info": {
   "codemirror_mode": {
    "name": "ipython",
    "version": 3
   },
   "file_extension": ".py",
   "mimetype": "text/x-python",
   "name": "python",
   "nbconvert_exporter": "python",
   "pygments_lexer": "ipython3",
   "version": "3.8.16"
  }
 },
 "nbformat": 4,
 "nbformat_minor": 1
}
