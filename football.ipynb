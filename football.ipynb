{
 "cells": [
  {
   "cell_type": "markdown",
   "metadata": {},
   "source": [
    "# Football Analysis\n",
    "### Projet analyse video Chagnard"
   ]
  },
  {
   "cell_type": "markdown",
   "source": [
    "Dependencies"
   ],
   "metadata": {
    "collapsed": false
   }
  },
  {
   "cell_type": "code",
   "execution_count": null,
   "outputs": [],
   "source": [
    "#pip install ultralytics\n",
    "#pip install opencv-python\n",
    "#pip install yt-dlp"
   ],
   "metadata": {
    "collapsed": false
   }
  },
  {
   "cell_type": "markdown",
   "source": [
    "Arguments"
   ],
   "metadata": {
    "collapsed": false
   }
  },
  {
   "cell_type": "code",
   "execution_count": null,
   "outputs": [],
   "source": [
    "youtube_video = \"https://www.youtube.com/watch?v=WAshV6LM3QI\"\n",
    "model_name = \"yolov8n.pt\""
   ],
   "metadata": {
    "collapsed": false
   }
  },
  {
   "cell_type": "markdown",
   "source": [
    "Imports"
   ],
   "metadata": {
    "collapsed": false
   }
  },
  {
   "cell_type": "code",
   "execution_count": null,
   "metadata": {},
   "outputs": [],
   "source": [
    "import sys\n",
    "from ultralytics import YOLO\n",
    "# import cv2 doesn't work on my machine ~\n",
    "from cv2 import VideoCapture, destroyAllWindows, imshow, waitKey\n",
    "import pafy"
   ]
  },
  {
   "cell_type": "markdown",
   "metadata": {},
   "source": [
    "Miscellaneous step to get the video path"
   ]
  },
  {
   "cell_type": "code",
   "execution_count": null,
   "metadata": {},
   "outputs": [],
   "source": [
    "sys.path.append(\"..\")"
   ]
  },
  {
   "cell_type": "markdown",
   "source": [],
   "metadata": {
    "collapsed": false
   }
  },
  {
   "cell_type": "code",
   "execution_count": null,
   "outputs": [],
   "source": [
    "video = pafy.new(youtube_video)\n",
    "best = video.getbest()\n",
    "video_path = best.download()\n",
    "video_path"
   ],
   "metadata": {
    "collapsed": false
   }
  },
  {
   "cell_type": "markdown",
   "metadata": {},
   "source": [
    "**Load model**"
   ]
  },
  {
   "cell_type": "code",
   "execution_count": null,
   "metadata": {},
   "outputs": [],
   "source": [
    "model = YOLO(model_name)  # load a pretrained model (recommended for training)"
   ]
  },
  {
   "cell_type": "markdown",
   "metadata": {},
   "source": [
    "Error prevention step"
   ]
  },
  {
   "cell_type": "code",
   "execution_count": null,
   "metadata": {},
   "outputs": [],
   "source": [
    "cap = VideoCapture(video)\n",
    "if not cap.isOpened():\n",
    "    \"Error opening the video\""
   ]
  },
  {
   "cell_type": "markdown",
   "source": [
    "### Detection / Prediction\n",
    "\"q\" to leave the video.\n",
    "Trying to close it with the window \"x\" on the top right of the window will not work.\n",
    "Will close the window automatically at the end of the prediction."
   ],
   "metadata": {
    "collapsed": false
   }
  },
  {
   "cell_type": "code",
   "execution_count": null,
   "outputs": [],
   "source": [
    "while cap.isOpened():\n",
    "    ret, frame = cap.read()\n",
    "    if ret:\n",
    "        # Detection part\n",
    "        detection_results = model(frame)\n",
    "        for res in detection_results:\n",
    "            boxes = res.boxes\n",
    "            masks = res.masks\n",
    "            probs = res.probs\n",
    "\n",
    "\n",
    "        res_plotted = detection_results[0].plot()\n",
    "        # End of detection part\n",
    "        imshow('Frame', res_plotted)\n",
    "        if waitKey(25) & 0xFF == ord('q'):\n",
    "            break\n",
    "    else:\n",
    "        break\n",
    "\n",
    "cap.release()\n",
    "destroyAllWindows()"
   ],
   "metadata": {
    "collapsed": false
   }
  }
 ],
 "metadata": {
  "kernelspec": {
   "display_name": "Python 3 (ipykernel)",
   "language": "python",
   "name": "python3"
  },
  "language_info": {
   "codemirror_mode": {
    "name": "ipython",
    "version": 3
   },
   "file_extension": ".py",
   "mimetype": "text/x-python",
   "name": "python",
   "nbconvert_exporter": "python",
   "pygments_lexer": "ipython3",
   "version": "3.8.16"
  }
 },
 "nbformat": 4,
 "nbformat_minor": 1
}
